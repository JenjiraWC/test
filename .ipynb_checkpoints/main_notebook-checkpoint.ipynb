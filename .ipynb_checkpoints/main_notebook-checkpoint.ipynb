{
 "cells": [
  {
   "cell_type": "markdown",
   "source": [
    "# Recursive Water and Land Mapping"
   ],
   "metadata": {
    "collapsed": false
   }
  },
  {
   "cell_type": "markdown",
   "metadata": {},
   "source": [
    "## Import required packages and functions\n",
    "\n",
    "For details on the installation procedure, please check the `README.md` file of tis project."
   ]
  },
  {
   "cell_type": "code",
   "execution_count": 4,
   "metadata": {},
   "outputs": [],
   "source": [
    "import random\n",
    "import os\n",
    "\n",
    "from configuration import Config, Debug\n",
    "from image_reader import ReadSentinel2\n",
    "from training import training_main\n",
    "from evaluation import evaluation_main\n",
    "from datetime import datetime"
   ]
  },
  {
   "cell_type": "markdown",
   "metadata": {},
   "source": [
    "## Download Dataset"
   ]
  },
  {
   "cell_type": "markdown",
   "metadata": {},
   "source": [
    "Download our dataset *Sentinel-2 Images from Oroville Dam and Charles River* from [this Zenodo link](https://zenodo.org/record/6999172#.YzWyndjMI2x) and extract the `.zip` file. \n",
    "In `configuration.py` (class `Config`), change `path_zenodo` to the path where the Zenodo folder has been stored. Images in this dataset are used for\n",
    "training and evaluation. Details regarding the dataset can be found in the Zenodo link."
   ]
  },
  {
   "cell_type": "markdown",
   "metadata": {},
   "source": [
    "## Configuration"
   ]
  },
  {
   "cell_type": "markdown",
   "metadata": {},
   "source": [
    "Please, consider changing the configuration settings from the `configuration.py` script as desired. Some configuration settings must be changed when executing the code with data that is different to the one provided by the authors. To help the user reproduce the results presented in the manuscript, some configuration settings are changed in this Jupyter Notebook file.\n",
    "\n",
    "### Paths\n",
    "Please, change the `Config.path_zenodo` setting to the path where the folder downloaded from Zenodo has been stored."
   ]
  },
  {
   "cell_type": "code",
   "execution_count": null,
   "outputs": [],
   "source": [
    "Config.path_zenodo = r\"/Users/helena/Documents/RBC-SatImg\"  # CHANGE"
   ],
   "metadata": {
    "collapsed": false
   }
  },
  {
   "cell_type": "markdown",
   "source": [
    "Run the following to update paths with respect to the Zenodo folder path."
   ],
   "metadata": {
    "collapsed": false
   }
  },
  {
   "cell_type": "code",
   "execution_count": null,
   "metadata": {},
   "outputs": [],
   "source": [
    "Config.path_evaluation_results = os.path.join(Config.path_zenodo, \"evaluation_results\")\n",
    "Config.path_sentinel_images = os.path.join(Config.path_zenodo, \"Sentinel2_data\")\n",
    "Config.path_results_figures = os.path.join(Config.path_zenodo, 'results_figures')\n",
    "Config.path_watnet_pretrained_model = os.path.join(os.getcwd(), r\"benchmark_models/watnet/model/pretrained/watnet.h5\")\n",
    "Config.path_log_files = os.path.join(Config.path_zenodo, 'log')\n",
    "Config.path_trained_models = os.path.join(os.getcwd(), \"trained_models\")"
   ]
  },
  {
   "cell_type": "markdown",
   "metadata": {},
   "source": [
    "### Debugging Options \n",
    "\n",
    "Set the following configuration options to `True` if wanting to train the GMM and LR models. The trained models will be stored in pickle format in the `Config.path_trained_models` folder and will be used for evaluation. If the user wants to use already trained models, the following\n",
    "options must be set to False. Pre-trained models with the configuration used to reproduce results from the manuscript are provided in this repository (see the folder `trained_models`)."
   ]
  },
  {
   "cell_type": "code",
   "execution_count": null,
   "metadata": {},
   "outputs": [],
   "source": [
    "Config.gmm_dump_pickle = False  # False if wanting to use a stored pretrained model for GMM\n",
    "# True if wanting to train the GMM model\n",
    "Config.trained_lr_model_pickle = False  # False if wanting to use a stored pretrained model for LR\n",
    "# True if wanting to train the LR model"
   ]
  },
  {
   "cell_type": "markdown",
   "metadata": {},
   "source": [
    "## Main Function\n",
    "This function contains the main logic and flow of the code."
   ]
  },
  {
   "cell_type": "code",
   "execution_count": null,
   "metadata": {},
   "outputs": [],
   "source": [
    "# Initialize random seed\n",
    "random.seed(1)\n",
    "\n",
    "# Set logging path\n",
    "Debug.set_logging_file(time_now=datetime.now())\n",
    "\n",
    "# Instance of Image Reader object\n",
    "image_reader = ReadSentinel2(Config.image_dimensions[Config.scenario]['dim_x'],\n",
    "                             Config.image_dimensions[Config.scenario]['dim_y'])"
   ]
  },
  {
   "cell_type": "markdown",
   "metadata": {},
   "source": [
    "### Training Stage"
   ]
  },
  {
   "cell_type": "code",
   "execution_count": null,
   "metadata": {},
   "outputs": [],
   "source": [
    "# Training Stage\n",
    "labels, gmm_densities, trained_lr_model = training_main(image_reader)"
   ]
  },
  {
   "cell_type": "markdown",
   "metadata": {},
   "source": [
    "### Evaluation Stage"
   ]
  },
  {
   "cell_type": "code",
   "execution_count": null,
   "metadata": {},
   "outputs": [],
   "source": [
    "# Evaluation Stage\n",
    "# This stage includes the plotting of results\n",
    "evaluation_main(gmm_densities, trained_lr_model, image_reader)"
   ]
  },
  {
   "cell_type": "markdown",
   "metadata": {},
   "source": [
    "\n",
    "## Authors\n",
    "* Bhavya Duvvuri, from The Beighley Lab (Sustainable Water Resources | Resilient Wet Infrastructure) at Northeastern\n",
    "University, Boston (MA).\n",
    "* Helena Calatrava, from the Signal Processing, Imaging, Reasoning and Learning (SPIRAL) Group also at \n",
    "Northeastern University, Boston (MA). \n"
   ]
  }
 ],
 "metadata": {
  "kernelspec": {
   "display_name": "Python 3 (ipykernel)",
   "language": "python",
   "name": "python3"
  },
  "language_info": {
   "codemirror_mode": {
    "name": "ipython",
    "version": 3
   },
   "file_extension": ".py",
   "mimetype": "text/x-python",
   "name": "python",
   "nbconvert_exporter": "python",
   "pygments_lexer": "ipython3",
   "version": "3.8.13"
  }
 },
 "nbformat": 4,
 "nbformat_minor": 1
}
