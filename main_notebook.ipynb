{
 "cells": [
  {
   "cell_type": "markdown",
   "metadata": {
    "pycharm": {
     "name": "#%%\n"
    }
   },
   "source": [
    "# Recursive Water and Land Mapping"
   ]
  },
  {
   "cell_type": "markdown",
   "metadata": {},
   "source": [
    "## Import required packages and functions\n",
    "\n",
    "For details on the installation procedure, please check the `README.md` file of tis project."
   ]
  },
  {
   "cell_type": "code",
   "execution_count": null,
   "metadata": {},
   "outputs": [],
   "source": [
    "import random\n",
    "import os\n",
    "\n",
    "from configuration import Config, Debug\n",
    "from image_reader import ReadSentinel2\n",
    "from training import training_main\n",
    "from evaluation import evaluation_main\n",
    "from datetime import datetime"
   ]
  },
  {
   "cell_type": "markdown",
   "metadata": {},
   "source": [
    "## Download Dataset"
   ]
  },
  {
   "cell_type": "markdown",
   "metadata": {},
   "source": [
    "Download our dataset *Sentinel-2 Images from Oroville Dam and Charles River* from [this Zenodo link](https://zenodo.org/record/6999172#.YzWyndjMI2x) and extract the `.zip` file. \n",
    "In `configuration.py` (class `Config`), change `path_sentinel_images` to the `sentinel_data` folder path. Images in this dataset are used for training and evaluation. Details regarding the dataset can be found in the Zenodo link."
   ]
  },
  {
   "cell_type": "markdown",
   "metadata": {},
   "source": [
    "## Configuration"
   ]
  },
  {
   "cell_type": "markdown",
   "metadata": {},
   "source": [
    "Please, consider changing the configuration settings from the `configuration.py` script as desired. Some configuration settings must be changed when executing the code with data that is different to the one provided by the authors.\n",
    "\n",
    "For simplicity, some configuration settings are overwritten in this file. \n",
    "\n",
    "### Paths\n",
    "Please, overwrite the `Config.path_sentinel_images` parameter with the corresponding path where the dataset images downloaded from the Zenodo link have been stored.\n"
   ]
  },
  {
   "cell_type": "code",
   "execution_count": null,
   "metadata": {},
   "outputs": [],
   "source": [
    "Config.path_sentinel_images = r\"C:\\Users\\HNereida\\Documents\\Northeastern\\hd-img\\Sentinel2_data\"  # Change\n",
    "Config.path_watnet_pretrained_model = os.path.join(os.getcwd(), r\"benchmark\\watnet\\model\\pretrained\\watnet.h5\")\n",
    "Config.path_log_files = os.path.join(os.getcwd(), r\"logs\")\n",
    "Config.path_trained_models = os.path.join(os.getcwd(), r\"trained_models\")"
   ]
  },
  {
   "cell_type": "markdown",
   "metadata": {},
   "source": [
    "### Debugging Options \n",
    "\n",
    "Set the following debugging options to `True` if wanting to train the GMM and LR models. The trained models will be stored in pickle files within the `Config.path_trained_models` folder. \n",
    "\n",
    "If the models have already been trained and stored in pickle files within that folder, the following debugging options can be set to `False` in order to skip the training stage. Authors provide already trained models so that the results provided in the publication can be reproduced."
   ]
  },
  {
   "cell_type": "code",
   "execution_count": null,
   "metadata": {},
   "outputs": [],
   "source": [
    "Debug.gmm_dump_pickle = False\n",
    "Debug.trained_lr_model_pickle = False"
   ]
  },
  {
   "cell_type": "markdown",
   "metadata": {},
   "source": [
    "## Main Function\n",
    "This function contains the main logic and flow of the code."
   ]
  },
  {
   "cell_type": "code",
   "execution_count": null,
   "metadata": {},
   "outputs": [],
   "source": [
    "# Initialize random seed\n",
    "random.seed(1)\n",
    "\n",
    "# Set logging path\n",
    "Debug.set_logging_file(time_now=datetime.now())\n",
    "\n",
    "# Instance of Image Reader object\n",
    "image_reader = ReadSentinel2(Config.image_dimensions[Config.scenario]['dim_x'],\n",
    "                             Config.image_dimensions[Config.scenario]['dim_y'])"
   ]
  },
  {
   "cell_type": "markdown",
   "metadata": {},
   "source": [
    "### Training Stage"
   ]
  },
  {
   "cell_type": "code",
   "execution_count": null,
   "metadata": {},
   "outputs": [],
   "source": [
    "# Training Stage\n",
    "labels, gmm_densities, trained_lr_model = training_main(image_reader)"
   ]
  },
  {
   "cell_type": "markdown",
   "metadata": {},
   "source": [
    "### Evaluation Stage"
   ]
  },
  {
   "cell_type": "code",
   "execution_count": null,
   "metadata": {},
   "outputs": [],
   "source": [
    "# Evaluation Stage\n",
    "# This stage includes the plotting of results\n",
    "evaluation_main(gmm_densities, trained_lr_model, image_reader)"
   ]
  },
  {
   "cell_type": "markdown",
   "metadata": {},
   "source": [
    "\n",
    "## Authors\n",
    "* Bhavya Duvvuri, from The Beighley Lab (Sustainable Water Resources | Resilient Wet Infrastructure) at Northeastern\n",
    "University, Boston (MA).\n",
    "* Helena Calatrava, from the Signal Processing, Imaging, Reasoning and Learning (SPIRAL) Group also at \n",
    "Northeastern University, Boston (MA). \n"
   ]
  }
 ],
 "metadata": {
  "kernelspec": {
   "display_name": "Python 3 (ipykernel)",
   "language": "python",
   "name": "python3"
  },
  "language_info": {
   "codemirror_mode": {
    "name": "ipython",
    "version": 3
   },
   "file_extension": ".py",
   "mimetype": "text/x-python",
   "name": "python",
   "nbconvert_exporter": "python",
   "pygments_lexer": "ipython3",
   "version": "3.8.13"
  }
 },
 "nbformat": 4,
 "nbformat_minor": 1
}
