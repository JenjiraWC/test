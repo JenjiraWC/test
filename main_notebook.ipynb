{
 "cells": [
  {
   "cell_type": "markdown",
   "metadata": {
    "pycharm": {
     "name": "#%%\n"
    }
   },
   "source": [
    "# Recursive Water and Land Mapping"
   ]
  },
  {
   "cell_type": "markdown",
   "metadata": {},
   "source": [
    "## Imports"
   ]
  },
  {
   "cell_type": "code",
   "execution_count": 52,
   "metadata": {},
   "outputs": [],
   "source": [
    "import random\n",
    "import os\n",
    "\n",
    "from configuration import Config, Debug\n",
    "from image_reader import ReadSentinel2\n",
    "from training import training_main\n",
    "from evaluation import evaluation_main\n",
    "from datetime import datetime\n",
    "\n",
    "from configuration import Debug"
   ]
  },
  {
   "cell_type": "markdown",
   "metadata": {},
   "source": [
    "## Download Data"
   ]
  },
  {
   "cell_type": "markdown",
   "metadata": {},
   "source": [
    "Download data from Zenodo by executing the following command. Make sure to store the data in the directory specified in `Config.path_sentinel_images`."
   ]
  },
  {
   "cell_type": "markdown",
   "metadata": {},
   "source": [
    "## Configuration"
   ]
  },
  {
   "cell_type": "markdown",
   "metadata": {},
   "source": [
    "Please, consider changing configuration settings from the `configuration.py` script as desired. Some configuration settings must be changed when executing the code with data that is different to the one provided by the authors.\n",
    "\n",
    "For simplicity, some configuration settings are overwritten in this file. \n",
    "\n",
    "### Paths\n",
    "Please, overwrite the `Config.path_sentinel_images` parameter with the corresponding path where the dataset images downloaded from the Zenodo link have been stored.\n"
   ]
  },
  {
   "cell_type": "code",
   "execution_count": 53,
   "metadata": {},
   "outputs": [],
   "source": [
    "Config.path_sentinel_images = r\"C:\\Users\\helen\\Documents\\Northeastern\\Project_Water_Mapping\\repo\\sentinel_data\"\n",
    "Config.path_watnet_pretrained_model = os.path.join(os.getcwd(), r\"benchmark\\watnet\\model\\pretrained\\watnet.h5\")\n",
    "Config.path_log_files = os.path.join(os.getcwd(), r\"logs\")\n",
    "Config.path_training_data = os.path.join(os.getcwd(), r\"training_data\")"
   ]
  },
  {
   "cell_type": "markdown",
   "metadata": {},
   "source": [
    "## Main Function\n",
    "This function contains the main logic and flow of the code."
   ]
  },
  {
   "cell_type": "code",
   "execution_count": 55,
   "metadata": {},
   "outputs": [],
   "source": [
    "# Initialize random seed\n",
    "random.seed(1)\n",
    "\n",
    "# Set logging path\n",
    "Debug.set_logging_file(time_now=datetime.now())\n",
    "\n",
    "# Instance of Image Reader object\n",
    "image_reader = ReadSentinel2(Config.image_dimensions[Config.scenario]['dim_x'],\n",
    "                             Config.image_dimensions[Config.scenario]['dim_y'])"
   ]
  },
  {
   "cell_type": "markdown",
   "metadata": {},
   "source": [
    "### Training Stage"
   ]
  },
  {
   "cell_type": "code",
   "execution_count": null,
   "metadata": {},
   "outputs": [],
   "source": [
    "# Training Stage\n",
    "labels, gmm_densities, trained_lr_model = training_main(image_reader)"
   ]
  },
  {
   "cell_type": "markdown",
   "metadata": {},
   "source": [
    "### Evaluation Stage"
   ]
  },
  {
   "cell_type": "code",
   "execution_count": null,
   "metadata": {},
   "outputs": [],
   "source": [
    "# Evaluation Stage\n",
    "# This stage includes the plotting of results\n",
    "evaluation_main(gmm_densities, trained_lr_model, image_reader)"
   ]
  },
  {
   "cell_type": "markdown",
   "metadata": {},
   "source": [
    "\n",
    "## Authors\n",
    "* Bhavya Duvvuri, from The Beighley Lab (Sustainable Water Resources | Resilient Wet Infrastructure) at Northeastern\n",
    "University, Boston (MA).\n",
    "* Helena Calatrava, from the Signal Processing, Imaging, Reasoning and Learning (SPIRAL) Group also at \n",
    "Northeastern University, Boston (MA). \n"
   ]
  }
 ],
 "metadata": {
  "kernelspec": {
   "display_name": "Python 3",
   "language": "python",
   "name": "python3"
  },
  "language_info": {
   "codemirror_mode": {
    "name": "ipython",
    "version": 3
   },
   "file_extension": ".py",
   "mimetype": "text/x-python",
   "name": "python",
   "nbconvert_exporter": "python",
   "pygments_lexer": "ipython3",
   "version": "3.6.13"
  }
 },
 "nbformat": 4,
 "nbformat_minor": 1
}
